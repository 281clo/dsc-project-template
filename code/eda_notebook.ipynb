{
 "cells": [
  {
   "cell_type": "markdown",
   "metadata": {},
   "source": [
    "## EDA notebook"
   ]
  },
  {
   "cell_type": "code",
   "execution_count": 1,
   "metadata": {},
   "outputs": [],
   "source": [
    "import pandas as pd\n",
    "import numpy as np\n",
    "import data_cleaning as dc\n",
    "import feature_engineering as fe\n",
    "\n",
    "pd.options.display.max_columns = 999\n",
    "pd.options.display.max_rows = 999\n",
    "\n",
    "outcomes = pd.read_csv('https://data.austintexas.gov/api/views/9t4d-g238/rows.csv?accessType=DOWNLOAD')\n",
    "intakes = pd.read_csv('https://data.austintexas.gov/api/views/wter-evkm/rows.csv?accessType=DOWNLOAD')"
   ]
  },
  {
   "cell_type": "code",
   "execution_count": 2,
   "metadata": {},
   "outputs": [],
   "source": [
    "outcomes = dc.prep_outcomes_file(outcomes)\n",
    "intakes = dc.prep_intakes_file(intakes)\n",
    "animal_shelter_df = dc.merge_files(intakes,outcomes)"
   ]
  },
  {
   "cell_type": "markdown",
   "metadata": {},
   "source": [
    "#### `feature_engineering`"
   ]
  },
  {
   "cell_type": "code",
   "execution_count": 3,
   "metadata": {},
   "outputs": [],
   "source": [
    "animal_shelter_df = fe.calc_stay_length(animal_shelter_df)\n",
    "animal_shelter_df = fe.create_species_var(animal_shelter_df)\n",
    "animal_shelter_df = fe.create_neutered_var(animal_shelter_df)\n",
    "animal_shelter_df = fe.reduce_breed_list(animal_shelter_df)"
   ]
  },
  {
   "cell_type": "code",
   "execution_count": 4,
   "metadata": {},
   "outputs": [],
   "source": [
    "\n",
    "import matplotlib.pyplot as plt\n",
    "from matplotlib.axes._axes import _log as matplotlib_axes_logger\n",
    "from matplotlib.ticker import FuncFormatter\n",
    "import seaborn as sns\n",
    "\n",
    "\n",
    "\n",
    "# System and Image manipulation packages\n",
    "import PIL\n",
    "from PIL import Image\n",
    "import imgkit"
   ]
  },
  {
   "cell_type": "code",
   "execution_count": 5,
   "metadata": {},
   "outputs": [],
   "source": [
    "tb_styles = {'selector': 'table',\n",
    "        'props':[( 'width', '100%')]}\n",
    "\n",
    "th_styles={'selector': 'th',\n",
    "           'props': [('border', \"1\"),\n",
    "                     (\"border-color\", \"black\"),\n",
    "                     ('border-style','solid'),\n",
    "                     ('border-width','1px'),\n",
    "                     ('font-family', 'verdana'),\n",
    "                     ('white-space', 'nowrap'),\n",
    "                     ('width', '75%'),\n",
    "                     (\"text-align\", \"left\")]\n",
    "          }\n",
    "\n",
    "\n",
    "\n",
    "td_styles = {'selector': 'td',\n",
    "             'props': [('font-family', 'verdana'),\n",
    "                       ('border', \"1\"),\n",
    "                       (\"border-color\", \"black\"),\n",
    "                       ('border-style','solid'),\n",
    "                       ('border-width','1px'),\n",
    "                       ('white-space', 'nowrap'),\n",
    "                       ('padding-right',\"10px\"),\n",
    "                      ('padding',\"10px\")]\n",
    "            }\n",
    "\n",
    "cap_style = {'selector':'caption',\n",
    "            'props':[('font-family', 'verdana'),\n",
    "                     ('white-space', 'nowrap'),\n",
    "                    (\"font-size\", \"large\")]}"
   ]
  },
  {
   "cell_type": "code",
   "execution_count": 6,
   "metadata": {},
   "outputs": [
    {
     "name": "stdout",
     "output_type": "stream",
     "text": [
      "../images/test.png\n"
     ]
    },
    {
     "ename": "OSError",
     "evalue": "No wkhtmltoimage executable found: \"b''\"\nIf this file exists please check that this process can read it. Otherwise please install wkhtmltopdf - http://wkhtmltopdf.org\n",
     "output_type": "error",
     "traceback": [
      "\u001b[1;31m---------------------------------------------------------------------------\u001b[0m",
      "\u001b[1;31mFileNotFoundError\u001b[0m                         Traceback (most recent call last)",
      "\u001b[1;32m~\\.conda\\envs\\flatiron\\lib\\site-packages\\imgkit\\config.py\u001b[0m in \u001b[0;36m__init__\u001b[1;34m(self, wkhtmltoimage, meta_tag_prefix)\u001b[0m\n\u001b[0;32m     29\u001b[0m         \u001b[1;32mtry\u001b[0m\u001b[1;33m:\u001b[0m\u001b[1;33m\u001b[0m\u001b[1;33m\u001b[0m\u001b[0m\n\u001b[1;32m---> 30\u001b[1;33m             \u001b[1;32mwith\u001b[0m \u001b[0mopen\u001b[0m\u001b[1;33m(\u001b[0m\u001b[0mself\u001b[0m\u001b[1;33m.\u001b[0m\u001b[0mwkhtmltoimage\u001b[0m\u001b[1;33m)\u001b[0m\u001b[1;33m:\u001b[0m\u001b[1;33m\u001b[0m\u001b[1;33m\u001b[0m\u001b[0m\n\u001b[0m\u001b[0;32m     31\u001b[0m                 \u001b[1;32mpass\u001b[0m\u001b[1;33m\u001b[0m\u001b[1;33m\u001b[0m\u001b[0m\n",
      "\u001b[1;31mFileNotFoundError\u001b[0m: [Errno 2] No such file or directory: b''",
      "\nDuring handling of the above exception, another exception occurred:\n",
      "\u001b[1;31mOSError\u001b[0m                                   Traceback (most recent call last)",
      "\u001b[1;32m<ipython-input-6-5e5b9100f67f>\u001b[0m in \u001b[0;36m<module>\u001b[1;34m\u001b[0m\n\u001b[0;32m      7\u001b[0m \u001b[0mpath\u001b[0m \u001b[1;33m=\u001b[0m \u001b[1;34m'../images/test.png'\u001b[0m\u001b[1;33m\u001b[0m\u001b[1;33m\u001b[0m\u001b[0m\n\u001b[0;32m      8\u001b[0m \u001b[0mprint\u001b[0m\u001b[1;33m(\u001b[0m\u001b[0mpath\u001b[0m\u001b[1;33m)\u001b[0m\u001b[1;33m\u001b[0m\u001b[1;33m\u001b[0m\u001b[0m\n\u001b[1;32m----> 9\u001b[1;33m \u001b[0mimgkit\u001b[0m\u001b[1;33m.\u001b[0m\u001b[0mfrom_string\u001b[0m\u001b[1;33m(\u001b[0m\u001b[0mhtml\u001b[0m\u001b[1;33m,\u001b[0m \u001b[0mpath\u001b[0m\u001b[1;33m)\u001b[0m\u001b[1;33m\u001b[0m\u001b[1;33m\u001b[0m\u001b[0m\n\u001b[0m",
      "\u001b[1;32m~\\.conda\\envs\\flatiron\\lib\\site-packages\\imgkit\\api.py\u001b[0m in \u001b[0;36mfrom_string\u001b[1;34m(string, output_path, options, toc, cover, css, config, cover_first)\u001b[0m\n\u001b[0;32m     87\u001b[0m     \"\"\"\n\u001b[0;32m     88\u001b[0m     rtn = IMGKit(string, 'string', options=options, toc=toc, cover=cover, css=css,\n\u001b[1;32m---> 89\u001b[1;33m                  config=config, cover_first=cover_first)\n\u001b[0m\u001b[0;32m     90\u001b[0m     \u001b[1;32mreturn\u001b[0m \u001b[0mrtn\u001b[0m\u001b[1;33m.\u001b[0m\u001b[0mto_img\u001b[0m\u001b[1;33m(\u001b[0m\u001b[0moutput_path\u001b[0m\u001b[1;33m)\u001b[0m\u001b[1;33m\u001b[0m\u001b[1;33m\u001b[0m\u001b[0m\n\u001b[0;32m     91\u001b[0m \u001b[1;33m\u001b[0m\u001b[0m\n",
      "\u001b[1;32m~\\.conda\\envs\\flatiron\\lib\\site-packages\\imgkit\\imgkit.py\u001b[0m in \u001b[0;36m__init__\u001b[1;34m(self, url_or_file, source_type, options, toc, cover, css, config, cover_first)\u001b[0m\n\u001b[0;32m     32\u001b[0m                  css=None, config=None, cover_first=None):\n\u001b[0;32m     33\u001b[0m         \u001b[0mself\u001b[0m\u001b[1;33m.\u001b[0m\u001b[0msource\u001b[0m \u001b[1;33m=\u001b[0m \u001b[0mSource\u001b[0m\u001b[1;33m(\u001b[0m\u001b[0murl_or_file\u001b[0m\u001b[1;33m,\u001b[0m \u001b[0msource_type\u001b[0m\u001b[1;33m)\u001b[0m\u001b[1;33m\u001b[0m\u001b[1;33m\u001b[0m\u001b[0m\n\u001b[1;32m---> 34\u001b[1;33m         \u001b[0mself\u001b[0m\u001b[1;33m.\u001b[0m\u001b[0mconfig\u001b[0m \u001b[1;33m=\u001b[0m \u001b[0mConfig\u001b[0m\u001b[1;33m(\u001b[0m\u001b[1;33m)\u001b[0m \u001b[1;32mif\u001b[0m \u001b[1;32mnot\u001b[0m \u001b[0mconfig\u001b[0m \u001b[1;32melse\u001b[0m \u001b[0mconfig\u001b[0m\u001b[1;33m\u001b[0m\u001b[1;33m\u001b[0m\u001b[0m\n\u001b[0m\u001b[0;32m     35\u001b[0m         \u001b[1;32mtry\u001b[0m\u001b[1;33m:\u001b[0m\u001b[1;33m\u001b[0m\u001b[1;33m\u001b[0m\u001b[0m\n\u001b[0;32m     36\u001b[0m             \u001b[0mself\u001b[0m\u001b[1;33m.\u001b[0m\u001b[0mwkhtmltoimage\u001b[0m \u001b[1;33m=\u001b[0m \u001b[0mself\u001b[0m\u001b[1;33m.\u001b[0m\u001b[0mconfig\u001b[0m\u001b[1;33m.\u001b[0m\u001b[0mwkhtmltoimage\u001b[0m\u001b[1;33m.\u001b[0m\u001b[0mdecode\u001b[0m\u001b[1;33m(\u001b[0m\u001b[1;34m'utf-8'\u001b[0m\u001b[1;33m)\u001b[0m\u001b[1;33m\u001b[0m\u001b[1;33m\u001b[0m\u001b[0m\n",
      "\u001b[1;32m~\\.conda\\envs\\flatiron\\lib\\site-packages\\imgkit\\config.py\u001b[0m in \u001b[0;36m__init__\u001b[1;34m(self, wkhtmltoimage, meta_tag_prefix)\u001b[0m\n\u001b[0;32m     34\u001b[0m                           \u001b[1;34m'If this file exists please check that this process can '\u001b[0m\u001b[1;33m\u001b[0m\u001b[1;33m\u001b[0m\u001b[0m\n\u001b[0;32m     35\u001b[0m                           \u001b[1;34m'read it. Otherwise please install wkhtmltopdf - '\u001b[0m\u001b[1;33m\u001b[0m\u001b[1;33m\u001b[0m\u001b[0m\n\u001b[1;32m---> 36\u001b[1;33m                           'http://wkhtmltopdf.org\\n'.format(self.wkhtmltoimage))\n\u001b[0m",
      "\u001b[1;31mOSError\u001b[0m: No wkhtmltoimage executable found: \"b''\"\nIf this file exists please check that this process can read it. Otherwise please install wkhtmltopdf - http://wkhtmltopdf.org\n"
     ]
    }
   ],
   "source": [
    "test_df =animal_shelter_df.animal_type.value_counts().to_frame()\n",
    "test_df.columns = [\"count\"]\n",
    "\n",
    "improved =test_df.style.set_table_attributes('style=\"border-collapse:collapse\"')\\\n",
    "                 .set_table_styles([tb_styles, th_styles,td_styles,cap_style]).set_caption(\"sample caption\")\n",
    "html = improved.render()\n",
    "path = '../images/test.png'\n",
    "print(path)\n",
    "imgkit.from_string(html, path)"
   ]
  },
  {
   "cell_type": "code",
   "execution_count": null,
   "metadata": {},
   "outputs": [],
   "source": [
    "im = Image.open(\"../images/test.png\")\n",
    "\n",
    "width, height = im.size \n",
    "new_width = width/3\n",
    "box = (0, 0, new_width, height)\n",
    "cropped_image = im.crop(box)\n",
    "cropped_image.show()\n",
    "cropped_image.save('../images/test.png')"
   ]
  },
  {
   "cell_type": "code",
   "execution_count": null,
   "metadata": {},
   "outputs": [],
   "source": [
    "#viz.value_counts_table(animal_shelter_df.animal_type.value_counts(), \"Count of Animal Type at Intake\", \"animal_type_i\")    \n",
    "#viz.value_counts_table(animal_shelter_df[animal_shelter_df.animal_type == \"Other\"].breed.value_counts()[:10], \"Short subset of breeds in Other Animal_type\", \"breeds_i\")"
   ]
  },
  {
   "cell_type": "markdown",
   "metadata": {},
   "source": [
    "### Start summary tables and analysis (yes, visualizations are not great yet)\n",
    "### really raw EDA"
   ]
  },
  {
   "cell_type": "code",
   "execution_count": null,
   "metadata": {},
   "outputs": [],
   "source": [
    "test.loc[(test['species']==\"Dog\")].groupby([test.date_i.dt.year, test.date_i.dt.month])[\"animal_id\"].count().plot()\n",
    "test.loc[(test['species']==\"Dog\") & (test['neutered']==1)].groupby([test.date_i.dt.year, test.date_i.dt.month])[\"animal_id\"].count().plot()\n"
   ]
  },
  {
   "cell_type": "code",
   "execution_count": null,
   "metadata": {},
   "outputs": [],
   "source": [
    "test.neutered.value_counts()"
   ]
  },
  {
   "cell_type": "code",
   "execution_count": null,
   "metadata": {},
   "outputs": [],
   "source": [
    "### Data Summary\n",
    "test.loc[test['species']==\"Rabbit\"].groupby([test.date_i.dt.year, test.date_i.dt.month])[\"animal_id\"].count().plot()\n"
   ]
  },
  {
   "cell_type": "code",
   "execution_count": null,
   "metadata": {},
   "outputs": [],
   "source": [
    "test.loc[test['species']==\"Wildlife\"].groupby([test.date_i.dt.year, test.date_i.dt.month])[\"animal_id\"].count().plot()"
   ]
  },
  {
   "cell_type": "code",
   "execution_count": null,
   "metadata": {},
   "outputs": [],
   "source": [
    "test.loc[test['species']==\"Chicken\"].groupby([test.date_i.dt.year, test.date_i.dt.month])[\"animal_id\"].count().plot()"
   ]
  },
  {
   "cell_type": "code",
   "execution_count": null,
   "metadata": {},
   "outputs": [],
   "source": [
    "test.loc[test['species']==\"Cat\"].groupby([test.date_i.dt.year, test.date_i.dt.month])[\"animal_id\"].count().plot()"
   ]
  },
  {
   "cell_type": "code",
   "execution_count": null,
   "metadata": {},
   "outputs": [],
   "source": [
    "test.loc[test['species']==\"Dog\"].groupby([test.date_i.dt.year, test.date_i.dt.month])[\"animal_id\"].count().plot()"
   ]
  },
  {
   "cell_type": "code",
   "execution_count": null,
   "metadata": {},
   "outputs": [],
   "source": [
    "test.loc[test['species']==\"Guinea Pig\"].groupby([test.date_i.dt.year, test.date_i.dt.month])[\"animal_id\"].count().plot()"
   ]
  },
  {
   "cell_type": "code",
   "execution_count": null,
   "metadata": {},
   "outputs": [],
   "source": [
    "test.loc[test['breed']==\"Pit Bull\"].groupby([test.date_i.dt.year, test.date_i.dt.month])[\"animal_id\"].count().plot()"
   ]
  },
  {
   "cell_type": "code",
   "execution_count": null,
   "metadata": {},
   "outputs": [],
   "source": [
    "test.loc[test['breed']==\"Pit Bull\"].groupby([test.date_o.dt.year, test.date_o.dt.month])[\"animal_id\"].count().plot()"
   ]
  }
 ],
 "metadata": {
  "kernelspec": {
   "display_name": "Python 3",
   "language": "python",
   "name": "python3"
  },
  "language_info": {
   "codemirror_mode": {
    "name": "ipython",
    "version": 3
   },
   "file_extension": ".py",
   "mimetype": "text/x-python",
   "name": "python",
   "nbconvert_exporter": "python",
   "pygments_lexer": "ipython3",
   "version": "3.7.6"
  }
 },
 "nbformat": 4,
 "nbformat_minor": 4
}
