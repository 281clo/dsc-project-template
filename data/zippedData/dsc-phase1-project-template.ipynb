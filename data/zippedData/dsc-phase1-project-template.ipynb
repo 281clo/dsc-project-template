{
 "cells": [
  {
   "cell_type": "markdown",
   "metadata": {},
   "source": [
    "![example](images/director_shot.jpeg)"
   ]
  },
  {
   "cell_type": "markdown",
   "metadata": {},
   "source": [
    "# Project Title\n",
    "\n",
    "**Authors:** Student 1, Student 2, Student 3\n",
    "***"
   ]
  },
  {
   "cell_type": "markdown",
   "metadata": {},
   "source": [
    "## Overview\n",
    "\n",
    "A one-paragraph overview of the project, including the business problem, data, methods, results and recommendations."
   ]
  },
  {
   "cell_type": "markdown",
   "metadata": {},
   "source": [
    "## Business Problem\n",
    "\n",
    "Summary of the business problem you are trying to solve, and the data questions that you plan to answer to solve them.\n",
    "\n",
    "***\n",
    "Questions to consider:\n",
    "* What are the business's pain points related to this project?\n",
    "* How did you pick the data analysis question(s) that you did?\n",
    "* Why are these questions important from a business perspective?\n",
    "***"
   ]
  },
  {
   "cell_type": "markdown",
   "metadata": {},
   "source": [
    "## Data Understanding\n",
    "\n",
    "Describe the data being used for this project.\n",
    "***\n",
    "Questions to consider:\n",
    "* Where did the data come from, and how do they relate to the data analysis questions?\n",
    "* What do the data represent? Who is in the sample and what variables are included?\n",
    "* What is the target variable?\n",
    "* What are the properties of the variables you intend to use?\n",
    "***"
   ]
  },
  {
   "cell_type": "code",
   "execution_count": 41,
   "metadata": {},
   "outputs": [],
   "source": [
    "import pandas as pd\n",
    "import matplotlib.pyplot as plt\n",
    "%matplotlib inline\n",
    "import gzip\n",
    "import csv\n",
    "import numpy as np\n",
    "import seaborn as sns\n",
    "from matplotlib import style"
   ]
  },
  {
   "cell_type": "code",
   "execution_count": 42,
   "metadata": {},
   "outputs": [],
   "source": [
    "df1 = pd.read_csv('bom.movie_gross.csv.gz')\n",
    "df1 = df1.rename(columns = {'title':'movie'})"
   ]
  },
  {
   "cell_type": "code",
   "execution_count": 45,
   "metadata": {},
   "outputs": [],
   "source": [
    "df4 = pd.read_csv('imdb.title.basics.csv.gz')\n",
    "df4 = df4.rename(columns = {'primary_title':'movie'})"
   ]
  },
  {
   "cell_type": "code",
   "execution_count": 52,
   "metadata": {},
   "outputs": [],
   "source": [
    "df11 = pd.read_csv('tn.movie_budgets.csv.gz')\n",
    "df11['worldwide_gross'] = df11['worldwide_gross'].str[1:]\n",
    "df11['worldwide_gross'] = df11['worldwide_gross'].str.replace(',', '').astype(np.int64)\n",
    "df11['domestic_gross'] = df11['domestic_gross'].str[1:]\n",
    "df11['domestic_gross'] = df11['domestic_gross'].str.replace(',', '').astype(np.int64)\n",
    "df11['production_budget'] = df11['production_budget'].str[1:]\n",
    "df11['production_budget'] = df11['production_budget'].str.replace(',', '').astype(np.int64)"
   ]
  },
  {
   "cell_type": "markdown",
   "metadata": {},
   "source": [
    "## Data Preparation\n",
    "\n",
    "Describe and justify the process for preparing the data for analysis.\n",
    "\n",
    "***\n",
    "Questions to consider:\n",
    "* Were there variables you dropped or created?\n",
    "* How did you address missing values or outliers?\n",
    "* Why are these choices appropriate given the data and the business problem?\n",
    "***"
   ]
  },
  {
   "cell_type": "code",
   "execution_count": 124,
   "metadata": {},
   "outputs": [
    {
     "data": {
      "text/html": [
       "<div>\n",
       "<style scoped>\n",
       "    .dataframe tbody tr th:only-of-type {\n",
       "        vertical-align: middle;\n",
       "    }\n",
       "\n",
       "    .dataframe tbody tr th {\n",
       "        vertical-align: top;\n",
       "    }\n",
       "\n",
       "    .dataframe thead th {\n",
       "        text-align: right;\n",
       "    }\n",
       "</style>\n",
       "<table border=\"1\" class=\"dataframe\">\n",
       "  <thead>\n",
       "    <tr style=\"text-align: right;\">\n",
       "      <th></th>\n",
       "      <th>id</th>\n",
       "      <th>release_date</th>\n",
       "      <th>production_budget</th>\n",
       "      <th>domestic_gross</th>\n",
       "      <th>worldwide_gross</th>\n",
       "    </tr>\n",
       "    <tr>\n",
       "      <th>movie</th>\n",
       "      <th></th>\n",
       "      <th></th>\n",
       "      <th></th>\n",
       "      <th></th>\n",
       "      <th></th>\n",
       "    </tr>\n",
       "  </thead>\n",
       "  <tbody>\n",
       "    <tr>\n",
       "      <th>Avatar</th>\n",
       "      <td>1</td>\n",
       "      <td>Dec 18, 2009</td>\n",
       "      <td>425000000</td>\n",
       "      <td>760507625</td>\n",
       "      <td>2776345279</td>\n",
       "    </tr>\n",
       "    <tr>\n",
       "      <th>Pirates of the Caribbean: On Stranger Tides</th>\n",
       "      <td>2</td>\n",
       "      <td>May 20, 2011</td>\n",
       "      <td>410600000</td>\n",
       "      <td>241063875</td>\n",
       "      <td>1045663875</td>\n",
       "    </tr>\n",
       "    <tr>\n",
       "      <th>Dark Phoenix</th>\n",
       "      <td>3</td>\n",
       "      <td>Jun 7, 2019</td>\n",
       "      <td>350000000</td>\n",
       "      <td>42762350</td>\n",
       "      <td>149762350</td>\n",
       "    </tr>\n",
       "    <tr>\n",
       "      <th>Avengers: Age of Ultron</th>\n",
       "      <td>4</td>\n",
       "      <td>May 1, 2015</td>\n",
       "      <td>330600000</td>\n",
       "      <td>459005868</td>\n",
       "      <td>1403013963</td>\n",
       "    </tr>\n",
       "    <tr>\n",
       "      <th>Star Wars Ep. VIII: The Last Jedi</th>\n",
       "      <td>5</td>\n",
       "      <td>Dec 15, 2017</td>\n",
       "      <td>317000000</td>\n",
       "      <td>620181382</td>\n",
       "      <td>1316721747</td>\n",
       "    </tr>\n",
       "    <tr>\n",
       "      <th>...</th>\n",
       "      <td>...</td>\n",
       "      <td>...</td>\n",
       "      <td>...</td>\n",
       "      <td>...</td>\n",
       "      <td>...</td>\n",
       "    </tr>\n",
       "    <tr>\n",
       "      <th>Sparkler</th>\n",
       "      <td>95</td>\n",
       "      <td>Mar 19, 1999</td>\n",
       "      <td>1000000</td>\n",
       "      <td>5494</td>\n",
       "      <td>5494</td>\n",
       "    </tr>\n",
       "    <tr>\n",
       "      <th>The Helixâ¦Loaded</th>\n",
       "      <td>96</td>\n",
       "      <td>Mar 18, 2005</td>\n",
       "      <td>1000000</td>\n",
       "      <td>3700</td>\n",
       "      <td>3700</td>\n",
       "    </tr>\n",
       "    <tr>\n",
       "      <th>Childless</th>\n",
       "      <td>97</td>\n",
       "      <td>May 15, 2015</td>\n",
       "      <td>1000000</td>\n",
       "      <td>1036</td>\n",
       "      <td>1036</td>\n",
       "    </tr>\n",
       "    <tr>\n",
       "      <th>In Her Line of Fire</th>\n",
       "      <td>98</td>\n",
       "      <td>Apr 21, 2006</td>\n",
       "      <td>1000000</td>\n",
       "      <td>884</td>\n",
       "      <td>884</td>\n",
       "    </tr>\n",
       "    <tr>\n",
       "      <th>The Jimmy Show</th>\n",
       "      <td>99</td>\n",
       "      <td>Dec 13, 2002</td>\n",
       "      <td>1000000</td>\n",
       "      <td>703</td>\n",
       "      <td>703</td>\n",
       "    </tr>\n",
       "  </tbody>\n",
       "</table>\n",
       "<p>4930 rows × 5 columns</p>\n",
       "</div>"
      ],
      "text/plain": [
       "                                             id  release_date  \\\n",
       "movie                                                           \n",
       "Avatar                                        1  Dec 18, 2009   \n",
       "Pirates of the Caribbean: On Stranger Tides   2  May 20, 2011   \n",
       "Dark Phoenix                                  3   Jun 7, 2019   \n",
       "Avengers: Age of Ultron                       4   May 1, 2015   \n",
       "Star Wars Ep. VIII: The Last Jedi             5  Dec 15, 2017   \n",
       "...                                          ..           ...   \n",
       "Sparkler                                     95  Mar 19, 1999   \n",
       "The Helixâ¦Loaded                           96  Mar 18, 2005   \n",
       "Childless                                    97  May 15, 2015   \n",
       "In Her Line of Fire                          98  Apr 21, 2006   \n",
       "The Jimmy Show                               99  Dec 13, 2002   \n",
       "\n",
       "                                             production_budget  \\\n",
       "movie                                                            \n",
       "Avatar                                               425000000   \n",
       "Pirates of the Caribbean: On Stranger Tides          410600000   \n",
       "Dark Phoenix                                         350000000   \n",
       "Avengers: Age of Ultron                              330600000   \n",
       "Star Wars Ep. VIII: The Last Jedi                    317000000   \n",
       "...                                                        ...   \n",
       "Sparkler                                               1000000   \n",
       "The Helixâ¦Loaded                                     1000000   \n",
       "Childless                                              1000000   \n",
       "In Her Line of Fire                                    1000000   \n",
       "The Jimmy Show                                         1000000   \n",
       "\n",
       "                                             domestic_gross  worldwide_gross  \n",
       "movie                                                                         \n",
       "Avatar                                            760507625       2776345279  \n",
       "Pirates of the Caribbean: On Stranger Tides       241063875       1045663875  \n",
       "Dark Phoenix                                       42762350        149762350  \n",
       "Avengers: Age of Ultron                           459005868       1403013963  \n",
       "Star Wars Ep. VIII: The Last Jedi                 620181382       1316721747  \n",
       "...                                                     ...              ...  \n",
       "Sparkler                                               5494             5494  \n",
       "The Helixâ¦Loaded                                     3700             3700  \n",
       "Childless                                              1036             1036  \n",
       "In Her Line of Fire                                     884              884  \n",
       "The Jimmy Show                                          703              703  \n",
       "\n",
       "[4930 rows x 5 columns]"
      ]
     },
     "execution_count": 124,
     "metadata": {},
     "output_type": "execute_result"
    }
   ],
   "source": [
    "production = df11[df11.production_budget < 1000000].index\n",
    "df11.drop(production, inplace=True)\n",
    "domestic = df11[df11.domestic_gross < 1].index\n",
    "df11.drop(domestic, inplace=True)\n",
    "worldwide = df11[df11.worldwide_gross < 1].index\n",
    "df11.drop(worldwide, inplace=True)\n",
    "df11.set_index('movie')"
   ]
  },
  {
   "cell_type": "code",
   "execution_count": 127,
   "metadata": {},
   "outputs": [],
   "source": [
    "BigFrame = df11.merge(df1, on='movie').merge(df4, on='movie').drop(columns=['tconst', 'original_title', 'start_year', 'id', 'domestic_gross_y'])"
   ]
  },
  {
   "cell_type": "code",
   "execution_count": 128,
   "metadata": {},
   "outputs": [
    {
     "name": "stderr",
     "output_type": "stream",
     "text": [
      "<ipython-input-128-a1ef15600135>:6: FutureWarning: The default value of regex will change from True to False in a future version. In addition, single character regular expressions will*not* be treated as literal strings when regex=True.\n",
      "  BigFrame['foreign_gross'] = BigFrame['foreign_gross'].str.replace('.', '')\n"
     ]
    }
   ],
   "source": [
    "BigFrame = BigFrame.drop_duplicates(subset='movie').set_index('movie')\n",
    "BigFrame['month'] = BigFrame['release_date'].str[:3]\n",
    "BigFrame = BigFrame.dropna()\n",
    "BigFrame.dropna(inplace=True)\n",
    "BigFrame['foreign_gross'] = BigFrame['foreign_gross'].str.replace(',', '')\n",
    "BigFrame['foreign_gross'] = BigFrame['foreign_gross'].str.replace('.', '')\n",
    "BigFrame['foreign_gross'] = BigFrame['foreign_gross'].astype(np.int64)\n",
    "BigFrame['foreign_gross'] = BigFrame['foreign_gross'].sort_values(ascending=False)\n",
    "BigFrame.year = BigFrame.year.astype(int)"
   ]
  },
  {
   "cell_type": "code",
   "execution_count": 129,
   "metadata": {},
   "outputs": [],
   "source": [
    "ForeignF = BigFrame.set_index(keys='foreign_gross')\n",
    "DomesticF = BigFrame.set_index(keys='domestic_gross_x')\n",
    "ForeignF['genres'] = ForeignF['genres'].str.split(',')\n",
    "DomesticF['genres'] = DomesticF['genres'].str.split(',')\n",
    "ForeignF = ForeignF.drop(columns=['worldwide_gross'], axis=1).drop(columns='domestic_gross_x')\n",
    "Domestic = DomesticF.drop(columns=['worldwide_gross'], axis=1).drop(columns='foreign_gross')"
   ]
  },
  {
   "cell_type": "code",
   "execution_count": 130,
   "metadata": {},
   "outputs": [],
   "source": [
    "def getgross(g):\n",
    "    listi = []\n",
    "    for k, v in ForeignF['genres'].items():\n",
    "        if g in v:\n",
    "            listi.append(k)\n",
    "    return listi\n",
    "faction = getgross('Action')\n",
    "#faction = np.mean(faction)\n",
    "fcomedy = getgross('Comedy')\n",
    "#fcomedy = np.mean(fcomedy)\n",
    "fadventure = getgross('Adventure')\n",
    "#fadventure = np.mean(fadventure)\n",
    "fthriller = getgross('Thriller')\n",
    "#fthriller = np.mean(fthriller)\n",
    "fcrime = getgross('Crime')\n",
    "#fcrime = np.mean(fcrime)\n",
    "fromance = getgross('Romance')\n",
    "#fromance = np.mean(fromance)\n",
    "fhorror = getgross('Horror')\n",
    "#fhorror = np.mean(fhorror)\n",
    "fscifi = getgross('Sci-Fi')\n",
    "#fscifi = np.mean(fscifi)\n",
    "fbiography = getgross('Biography')\n",
    "#fbiography = np.mean(fbiography)\n",
    "fmystery = getgross('Mystery')\n",
    "#fmystery = np.mean(fmystery)\n",
    "ffamily = getgross('Family')\n",
    "#ffamily = np.mean(ffamily)\n",
    "fmusic = getgross('Music')\n",
    "#fmusic = np.mean(fmusic)\n",
    "fdocumentary = getgross('Documentary')\n",
    "#fdocumentary = np.mean(fdocumentary)\n",
    "\n",
    "mfaction = np.median(faction)\n",
    "mfcomedy = np.median(fcomedy)\n",
    "mfadventure = np.median(fadventure)\n",
    "mfthriller = np.median(fthriller)\n",
    "mfcrime = np.median(fcrime)\n",
    "mfromance = np.median(fromance)\n",
    "mfhorror = np.median(fhorror)\n",
    "mfscifi = np.median(fscifi)\n",
    "mfbiography = np.median(fbiography)\n",
    "mfmystery = np.median(fmystery)\n",
    "mffamily = np.median(ffamily)\n",
    "mfmusic = np.median(fmusic)\n",
    "mfdocumentary = np.median(fdocumentary)"
   ]
  },
  {
   "cell_type": "code",
   "execution_count": 131,
   "metadata": {},
   "outputs": [],
   "source": [
    "ForGrossMed = [mfcomedy, mfaction, mfadventure, mfthriller, mfcrime, mfromance, mfhorror, mfscifi, mfbiography, mfmystery, mffamily, mfmusic, mfdocumentary]\n",
    "ForGrossMed = list(ForGrossMed)"
   ]
  },
  {
   "cell_type": "code",
   "execution_count": 132,
   "metadata": {},
   "outputs": [],
   "source": [
    "def getgross(g):\n",
    "    listi = []\n",
    "    for k, v in DomesticF['genres'].items():\n",
    "        if g in v:\n",
    "            listi.append(k)\n",
    "    return listi\n",
    "daction = getgross('Action')\n",
    "#daction = np.mean(faction)\n",
    "dcomedy = getgross('Comedy')\n",
    "#dcomedy = np.mean(fcomedy)\n",
    "dadventure = getgross('Adventure')\n",
    "#dadventure = np.mean(fadventure)\n",
    "dthriller = getgross('Thriller')\n",
    "#dthriller = np.mean(fthriller)\n",
    "dcrime = getgross('Crime')\n",
    "#dcrime = np.mean(fcrime)\n",
    "dromance = getgross('Romance')\n",
    "#dromance = np.mean(fromance)\n",
    "dhorror = getgross('Horror')\n",
    "#dhorror = np.mean(fhorror)\n",
    "dscifi = getgross('Sci-Fi')\n",
    "#dscifi = np.mean(fscifi)\n",
    "dbiography = getgross('Biography')\n",
    "#dbiography = np.mean(fbiography)\n",
    "dmystery = getgross('Mystery')\n",
    "#dmystery = np.mean(fmystery)\n",
    "dfamily = getgross('Family')\n",
    "#dfamily = np.mean(ffamily)\n",
    "dmusic = getgross('Music')\n",
    "#dmusic = np.mean(fmusic)\n",
    "ddocumentary = getgross('Documentary')\n",
    "#ddocumentary = np.mean(fdocumentary)\n",
    "\n",
    "mdaction = np.median(daction)\n",
    "mdcomedy = np.median(dcomedy)\n",
    "mdadventure = np.median(dadventure)\n",
    "mdthriller = np.median(dthriller)\n",
    "mdcrime = np.median(dcrime)\n",
    "mdromance = np.median(dromance)\n",
    "mdhorror = np.median(dhorror)\n",
    "mdscifi = np.median(dscifi)\n",
    "mdbiography = np.median(dbiography)\n",
    "mdmystery = np.median(dmystery)\n",
    "mdfamily = np.median(dfamily)\n",
    "mdmusic = np.median(dmusic)\n",
    "mddocumentary = np.median(ddocumentary)\n"
   ]
  },
  {
   "cell_type": "code",
   "execution_count": 133,
   "metadata": {},
   "outputs": [],
   "source": [
    "DomGrossMed = [mdcomedy, mdaction, mdadventure, mdthriller, mdcrime, mdromance, mdhorror, mdscifi, mdbiography, mdmystery, mdfamily, mdmusic, mddocumentary]\n",
    "DomGrossMed = list(DomGrossMed)"
   ]
  },
  {
   "cell_type": "code",
   "execution_count": 134,
   "metadata": {},
   "outputs": [],
   "source": [
    "action = 0\n",
    "for genre in BigFrame['genres']:\n",
    "    if 'Action' in genre:\n",
    "        action += 1\n",
    "adventure = 0\n",
    "for genre in BigFrame['genres']:\n",
    "    if 'Adventure' in genre:\n",
    "        adventure += 1\n",
    "fantasy = 0\n",
    "for genre in BigFrame['genres']:\n",
    "    if 'Fantasy' in genre:\n",
    "        fantasy += 1\n",
    "scifi = 0\n",
    "for genre in BigFrame['genres']:\n",
    "    if 'Sci' in genre:\n",
    "        scifi += 1\n",
    "thriller = 0\n",
    "for genre in BigFrame['genres']:\n",
    "    if 'Thriller' in genre:\n",
    "        thriller += 1\n",
    "romance = 0\n",
    "for genre in BigFrame['genres']:\n",
    "    if 'Romance' in genre:\n",
    "        romance += 1\n",
    "comedy = 0\n",
    "for genre in BigFrame['genres']:\n",
    "    if 'Comedy' in genre:\n",
    "        comedy += 1\n",
    "music = 0\n",
    "for genre in BigFrame['genres']:\n",
    "    if 'Music' in genre:\n",
    "        music += 1\n",
    "biography = 0\n",
    "for genre in BigFrame['genres']:\n",
    "    if 'Biography' in genre:\n",
    "        biography += 1\n",
    "horror = 0\n",
    "for genre in BigFrame['genres']:\n",
    "    if 'Horror' in genre:\n",
    "        horror += 1\n",
    "mystery = 0\n",
    "for genre in BigFrame['genres']:\n",
    "    if 'Mystery' in genre:\n",
    "        mystery += 1\n",
    "documentary = 0\n",
    "for genre in BigFrame['genres']:\n",
    "    if 'Documentary' in genre:\n",
    "        documentary += 1\n",
    "crime = 0\n",
    "for genre in BigFrame['genres']:\n",
    "    if 'Crime' in genre:\n",
    "        crime += 1\n",
    "family = 0\n",
    "for genre in BigFrame['genres']:\n",
    "    if 'Family' in genre:\n",
    "        family += 1\n",
    "        \n",
    "ylabels = ['0M', '20M', '40M', '60M', '80M', '100M']        \n",
    "Genres = [comedy, action, adventure, thriller, crime, romance, horror, scifi, biography, mystery, family, music, documentary]\n",
    "Genres_i = ['Comedy', 'Action', 'Adventure', 'Thriller', 'Crime', 'Romance', 'Horror', 'Scifi', 'Biography', 'Mystery', 'Family', 'Music', 'Documentary']\n",
    "Genres_d = ['Comedy', 'Action', 'Adventure', 'Thriller', 'Crime', 'Romance', 'Horror', 'Scifi', 'Biography', 'Mystery', 'Family', 'Music', 'Documentary']"
   ]
  },
  {
   "cell_type": "code",
   "execution_count": 135,
   "metadata": {},
   "outputs": [
    {
     "name": "stderr",
     "output_type": "stream",
     "text": [
      "<ipython-input-135-18ad375045d9>:4: UserWarning: FixedFormatter should only be used together with FixedLocator\n",
      "  ax.set_yticklabels(labels=ylabels)\n"
     ]
    },
    {
     "data": {
      "image/png": "[encoded data removed]",
      "text/plain": [
       "<Figure size 432x432 with 1 Axes>"
      ]
     },
     "metadata": {
      "needs_background": "light"
     },
     "output_type": "display_data"
    }
   ],
   "source": [
    "fig, ax = plt.subplots(figsize=(6,6))\n",
    "ax.bar(x=Genres_i, height=DomGrossMed,  color='Red', edgecolor='black')\n",
    "ax.tick_params(axis='x', rotation=45);\n",
    "ax.set_yticklabels(labels=ylabels)\n",
    "ax.set_title('Domestic Gross')\n",
    "ax.set_ylabel('Median Gross Amount')\n",
    "ax.set_xlabel('Genres');"
   ]
  },
  {
   "cell_type": "code",
   "execution_count": 136,
   "metadata": {},
   "outputs": [
    {
     "name": "stderr",
     "output_type": "stream",
     "text": [
      "<ipython-input-136-2ebf3c8a4d17>:5: UserWarning: FixedFormatter should only be used together with FixedLocator\n",
      "  ax.set_yticklabels(labels=ylabels1)\n"
     ]
    },
    {
     "data": {
      "image/png": "[encoded data removed]",
      "text/plain": [
       "<Figure size 432x432 with 1 Axes>"
      ]
     },
     "metadata": {
      "needs_background": "light"
     },
     "output_type": "display_data"
    }
   ],
   "source": [
    "fig, ax = plt.subplots(figsize=(6,6))\n",
    "ax.bar(x=Genres_d, height=ForGrossMed,  color='Blue', edgecolor='black')\n",
    "ax.tick_params(axis='x', rotation=45, )\n",
    "ylabels1 = ['0M', '12.5M', '25M', '37.5M', '50M', '62.5M', '75M', '87.5M', '100M']\n",
    "ax.set_yticklabels(labels=ylabels1)\n",
    "ax.set_title('Foreign Gross')\n",
    "ax.set_ylabel('Median Gross Amount')\n",
    "ax.set_xlabel('Genres');"
   ]
  },
  {
   "cell_type": "code",
   "execution_count": 137,
   "metadata": {},
   "outputs": [
    {
     "data": {
      "image/png": "[encoded data removed]",
      "text/plain": [
       "<Figure size 1080x720 with 1 Axes>"
      ]
     },
     "metadata": {
      "needs_background": "light"
     },
     "output_type": "display_data"
    }
   ],
   "source": [
    "fig, ax = plt.subplots(figsize=(15, 10))\n",
    "sns.barplot(x=Genres_i, y=Genres, edgecolor='black')\n",
    "ax.tick_params(axis='x', rotation=45)"
   ]
  },
  {
   "cell_type": "markdown",
   "metadata": {},
   "source": [
    "## Data Modeling\n",
    "Describe and justify the process for analyzing or modeling the data.\n",
    "\n",
    "***\n",
    "Questions to consider:\n",
    "* How did you analyze or model the data?\n",
    "* How did you iterate on your initial approach to make it better?\n",
    "* Why are these choices appropriate given the data and the business problem?\n",
    "***"
   ]
  },
  {
   "cell_type": "markdown",
   "metadata": {},
   "source": [
    "## Evaluation\n",
    "Evaluate how well your work solves the stated business problem.\n",
    "\n",
    "***\n",
    "Questions to consider:\n",
    "* How do you interpret the results?\n",
    "* How well does your model fit your data? How much better is this than your baseline model?\n",
    "* How confident are you that your results would generalize beyond the data you have?\n",
    "* How confident are you that this model would benefit the business if put into use?\n",
    "***"
   ]
  },
  {
   "cell_type": "markdown",
   "metadata": {},
   "source": [
    "## Conclusions\n",
    "Provide your conclusions about the work you've done, including any limitations or next steps.\n",
    "\n",
    "***\n",
    "Questions to consider:\n",
    "* What would you recommend the business do as a result of this work?\n",
    "* What are some reasons why your analysis might not fully solve the business problem?\n",
    "* What else could you do in the future to improve this project?\n",
    "***"
   ]
  }
 ],
 "metadata": {
  "kernelspec": {
   "display_name": "Python 3",
   "language": "python",
   "name": "python3"
  },
  "language_info": {
   "codemirror_mode": {
    "name": "ipython",
    "version": 3
   },
   "file_extension": ".py",
   "mimetype": "text/x-python",
   "name": "python",
   "nbconvert_exporter": "python",
   "pygments_lexer": "ipython3",
   "version": "3.9.2"
  }
 },
 "nbformat": 4,
 "nbformat_minor": 4
}
