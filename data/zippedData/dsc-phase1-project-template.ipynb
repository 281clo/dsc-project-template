{
 "cells": [
  {
   "cell_type": "markdown",
   "metadata": {},
   "source": [
    "![example](images/director_shot.jpeg)"
   ]
  },
  {
   "cell_type": "markdown",
   "metadata": {},
   "source": [
    "# Project Title\n",
    "\n",
    "**Authors:** Student 1, Student 2, Student 3\n",
    "***"
   ]
  },
  {
   "cell_type": "markdown",
   "metadata": {},
   "source": [
    "## Overview\n",
    "\n",
    "A one-paragraph overview of the project, including the business problem, data, methods, results and recommendations."
   ]
  },
  {
   "cell_type": "markdown",
   "metadata": {},
   "source": [
    "## Business Problem\n",
    "\n",
    "Summary of the business problem you are trying to solve, and the data questions that you plan to answer to solve them.\n",
    "\n",
    "***\n",
    "Questions to consider:\n",
    "* What are the business's pain points related to this project?\n",
    "* How did you pick the data analysis question(s) that you did?\n",
    "* Why are these questions important from a business perspective?\n",
    "***"
   ]
  },
  {
   "cell_type": "markdown",
   "metadata": {},
   "source": [
    "## Data Understanding\n",
    "\n",
    "Describe the data being used for this project.\n",
    "***\n",
    "Questions to consider:\n",
    "* Where did the data come from, and how do they relate to the data analysis questions?\n",
    "* What do the data represent? Who is in the sample and what variables are included?\n",
    "* What is the target variable?\n",
    "* What are the properties of the variables you intend to use?\n",
    "***"
   ]
  },
  {
   "cell_type": "code",
   "execution_count": null,
   "metadata": {},
   "outputs": [],
   "source": [
    "import pandas as pd\n",
    "import matplotlib.pyplot as plt\n",
    "%matplotlib inline\n",
    "import gzip\n",
    "import csv\n",
    "import numpy as np\n",
    "import seaborn as sns\n",
    "from matplotlib import style"
   ]
  },
  {
   "cell_type": "code",
   "execution_count": null,
   "metadata": {},
   "outputs": [],
   "source": [
    "df1 = pd.read_csv('bom.movie_gross.csv.gz')\n",
    "df1 = df1.rename(columns = {'title':'movie'})"
   ]
  },
  {
   "cell_type": "code",
   "execution_count": null,
   "metadata": {},
   "outputs": [],
   "source": [
    "df4 = pd.read_csv('imdb.title.basics.csv.gz')\n",
    "df4 = df4.rename(columns = {'primary_title':'movie'})"
   ]
  },
  {
   "cell_type": "code",
   "execution_count": null,
   "metadata": {},
   "outputs": [],
   "source": [
    "df11 = pd.read_csv('tn.movie_budgets.csv.gz')\n",
    "df11['worldwide_gross'] = df11['worldwide_gross'].str[1:]\n",
    "df11['worldwide_gross'] = df11['worldwide_gross'].str.replace(',', '').astype(np.int64)\n",
    "df11['domestic_gross'] = df11['domestic_gross'].str[1:]\n",
    "df11['domestic_gross'] = df11['domestic_gross'].str.replace(',', '').astype(np.int64)\n",
    "df11['production_budget'] = df11['production_budget'].str[1:]\n",
    "df11['production_budget'] = df11['production_budget'].str.replace(',', '').astype(np.int64)"
   ]
  },
  {
   "cell_type": "markdown",
   "metadata": {},
   "source": [
    "## Data Preparation\n",
    "\n",
    "Describe and justify the process for preparing the data for analysis.\n",
    "\n",
    "***\n",
    "Questions to consider:\n",
    "* Were there variables you dropped or created?\n",
    "* How did you address missing values or outliers?\n",
    "* Why are these choices appropriate given the data and the business problem?\n",
    "***"
   ]
  },
  {
   "cell_type": "code",
   "execution_count": null,
   "metadata": {},
   "outputs": [],
   "source": [
    "production = df11[df11.production_budget < 1000000].index\n",
    "df11.drop(production, inplace=True)\n",
    "domestic = df11[df11.domestic_gross < 1].index\n",
    "df11.drop(domestic, inplace=True)\n",
    "worldwide = df11[df11.worldwide_gross < 1].index\n",
    "df11.drop(worldwide, inplace=True)\n",
    "df11.set_index('movie')"
   ]
  },
  {
   "cell_type": "code",
   "execution_count": null,
   "metadata": {},
   "outputs": [],
   "source": [
    "BigFrame = df11.merge(df1, on='movie').merge(df4, on='movie').drop(columns=['tconst', 'original_title', 'start_year', 'id', 'domestic_gross_y'])"
   ]
  },
  {
   "cell_type": "code",
   "execution_count": null,
   "metadata": {},
   "outputs": [],
   "source": [
    "BigFrame = BigFrame.drop_duplicates(subset='movie').set_index('movie')\n",
    "BigFrame['month'] = BigFrame['release_date'].str[:3]\n",
    "BigFrame = BigFrame.dropna()\n",
    "BigFrame.dropna(inplace=True)\n",
    "BigFrame['foreign_gross'] = BigFrame['foreign_gross'].str.replace(',', '')\n",
    "BigFrame['foreign_gross'] = BigFrame['foreign_gross'].str.replace('.', '')\n",
    "BigFrame['foreign_gross'] = BigFrame['foreign_gross'].astype(np.int64)\n",
    "BigFrame['foreign_gross'] = BigFrame['foreign_gross'].sort_values(ascending=False)\n",
    "BigFrame.year = BigFrame.year.astype(int)"
   ]
  },
  {
   "cell_type": "code",
   "execution_count": null,
   "metadata": {},
   "outputs": [],
   "source": [
    "ForeignF = BigFrame.set_index(keys='foreign_gross')\n",
    "DomesticF = BigFrame.set_index(keys='domestic_gross_x')\n",
    "ForeignF['genres'] = ForeignF['genres'].str.split(',')\n",
    "DomesticF['genres'] = DomesticF['genres'].str.split(',')\n",
    "ForeignF = ForeignF.drop(columns=['worldwide_gross'], axis=1).drop(columns='domestic_gross_x')\n",
    "Domestic = DomesticF.drop(columns=['worldwide_gross'], axis=1).drop(columns='foreign_gross')\n",
    "WorldGross = BigFrame.set_index(keys='worldwide_gross').drop(columns='domestic_gross_x').drop(columns='foreign_gross')\n",
    "WorldGross"
   ]
  },
  {
   "cell_type": "code",
   "execution_count": null,
   "metadata": {},
   "outputs": [],
   "source": [
    "def getgross(g):\n",
    "    listi = []\n",
    "    for k, v in WorldGross['genres'].items():\n",
    "        if g in v:\n",
    "            listi.append(k)\n",
    "    return listi\n",
    "waction = getgross('Action')\n",
    "wcomedy = getgross('Comedy')\n",
    "wadventure = getgross('Adventure')\n",
    "wthriller = getgross('Thriller')\n",
    "wcrime = getgross('Crime')\n",
    "wromance = getgross('Romance')\n",
    "whorror = getgross('Horror')\n",
    "wscifi = getgross('Sci-Fi')\n",
    "wbiography = getgross('Biography')\n",
    "wmystery = getgross('Mystery')\n",
    "wfamily = getgross('Family')\n",
    "wmusic = getgross('Music')\n",
    "wdocumentary = getgross('Documentary')\n",
    "\n",
    "mwaction = np.median(waction)\n",
    "mwcomedy = np.median(wcomedy)\n",
    "mwadventure = np.median(wadventure)\n",
    "mwthriller = np.median(wthriller)\n",
    "mwcrime = np.median(wcrime)\n",
    "mwromance = np.median(wromance)\n",
    "mwhorror = np.median(whorror)\n",
    "mwscifi = np.median(wscifi)\n",
    "mwbiography = np.median(wbiography)\n",
    "mwmystery = np.median(wmystery)\n",
    "mwfamily = np.median(wfamily)\n",
    "mwmusic = np.median(wmusic)\n",
    "mwdocumentary = np.median(wdocumentary)"
   ]
  },
  {
   "cell_type": "code",
   "execution_count": null,
   "metadata": {},
   "outputs": [],
   "source": [
    "WorldGrossMed = [mwcomedy, mwaction, mwadventure, mwthriller, mwcrime, mwromance, mwhorror, mwscifi, mwbiography, mwmystery, mwfamily, mwmusic, mwdocumentary]\n",
    "WorldGrossMed = list(WorldGrossMed)"
   ]
  },
  {
   "cell_type": "code",
   "execution_count": null,
   "metadata": {},
   "outputs": [],
   "source": [
    "def getgross(g):\n",
    "    listi = []\n",
    "    for k, v in ForeignF['genres'].items():\n",
    "        if g in v:\n",
    "            listi.append(k)\n",
    "    return listi\n",
    "faction = getgross('Action')\n",
    "fcomedy = getgross('Comedy')\n",
    "fadventure = getgross('Adventure')\n",
    "fthriller = getgross('Thriller')\n",
    "fcrime = getgross('Crime')\n",
    "fromance = getgross('Romance')\n",
    "fhorror = getgross('Horror')\n",
    "fscifi = getgross('Sci-Fi')\n",
    "fbiography = getgross('Biography')\n",
    "fmystery = getgross('Mystery')\n",
    "ffamily = getgross('Family')\n",
    "fmusic = getgross('Music')\n",
    "fdocumentary = getgross('Documentary')\n",
    "\n",
    "\n",
    "mfaction = np.median(faction)\n",
    "mfcomedy = np.median(fcomedy)\n",
    "mfadventure = np.median(fadventure)\n",
    "mfthriller = np.median(fthriller)\n",
    "mfcrime = np.median(fcrime)\n",
    "mfromance = np.median(fromance)\n",
    "mfhorror = np.median(fhorror)\n",
    "mfscifi = np.median(fscifi)\n",
    "mfbiography = np.median(fbiography)\n",
    "mfmystery = np.median(fmystery)\n",
    "mffamily = np.median(ffamily)\n",
    "mfmusic = np.median(fmusic)\n",
    "mfdocumentary = np.median(fdocumentary)"
   ]
  },
  {
   "cell_type": "code",
   "execution_count": null,
   "metadata": {},
   "outputs": [],
   "source": [
    "ForGrossMed = [mfcomedy, mfaction, mfadventure, mfthriller, mfcrime, mfromance, mfhorror, mfscifi, mfbiography, mfmystery, mffamily, mfmusic, mfdocumentary]\n",
    "ForGrossMed = list(ForGrossMed)"
   ]
  },
  {
   "cell_type": "code",
   "execution_count": null,
   "metadata": {},
   "outputs": [],
   "source": [
    "def getgross(g):\n",
    "    listi = []\n",
    "    for k, v in DomesticF['genres'].items():\n",
    "        if g in v:\n",
    "            listi.append(k)\n",
    "    return listi\n",
    "daction = getgross('Action')\n",
    "dcomedy = getgross('Comedy')\n",
    "dadventure = getgross('Adventure')\n",
    "dthriller = getgross('Thriller')\n",
    "dcrime = getgross('Crime')\n",
    "dromance = getgross('Romance')\n",
    "dhorror = getgross('Horror')\n",
    "dscifi = getgross('Sci-Fi')\n",
    "dbiography = getgross('Biography')\n",
    "dmystery = getgross('Mystery')\n",
    "dfamily = getgross('Family')\n",
    "dmusic = getgross('Music')\n",
    "ddocumentary = getgross('Documentary')\n",
    "\n",
    "mdaction = np.median(daction)\n",
    "mdcomedy = np.median(dcomedy)\n",
    "mdadventure = np.median(dadventure)\n",
    "mdthriller = np.median(dthriller)\n",
    "mdcrime = np.median(dcrime)\n",
    "mdromance = np.median(dromance)\n",
    "mdhorror = np.median(dhorror)\n",
    "mdscifi = np.median(dscifi)\n",
    "mdbiography = np.median(dbiography)\n",
    "mdmystery = np.median(dmystery)\n",
    "mdfamily = np.median(dfamily)\n",
    "mdmusic = np.median(dmusic)\n",
    "mddocumentary = np.median(ddocumentary)\n"
   ]
  },
  {
   "cell_type": "code",
   "execution_count": null,
   "metadata": {},
   "outputs": [],
   "source": [
    "DomGrossMed = [mdcomedy, mdaction, mdadventure, mdthriller, mdcrime, mdromance, mdhorror, mdscifi, mdbiography, mdmystery, mdfamily, mdmusic, mddocumentary]\n",
    "DomGrossMed = list(DomGrossMed)"
   ]
  },
  {
   "cell_type": "code",
   "execution_count": null,
   "metadata": {},
   "outputs": [],
   "source": [
    "action = 0\n",
    "for genre in BigFrame['genres']:\n",
    "    if 'Action' in genre:\n",
    "        action += 1\n",
    "adventure = 0\n",
    "for genre in BigFrame['genres']:\n",
    "    if 'Adventure' in genre:\n",
    "        adventure += 1\n",
    "fantasy = 0\n",
    "for genre in BigFrame['genres']:\n",
    "    if 'Fantasy' in genre:\n",
    "        fantasy += 1\n",
    "scifi = 0\n",
    "for genre in BigFrame['genres']:\n",
    "    if 'Sci' in genre:\n",
    "        scifi += 1\n",
    "thriller = 0\n",
    "for genre in BigFrame['genres']:\n",
    "    if 'Thriller' in genre:\n",
    "        thriller += 1\n",
    "romance = 0\n",
    "for genre in BigFrame['genres']:\n",
    "    if 'Romance' in genre:\n",
    "        romance += 1\n",
    "comedy = 0\n",
    "for genre in BigFrame['genres']:\n",
    "    if 'Comedy' in genre:\n",
    "        comedy += 1\n",
    "music = 0\n",
    "for genre in BigFrame['genres']:\n",
    "    if 'Music' in genre:\n",
    "        music += 1\n",
    "biography = 0\n",
    "for genre in BigFrame['genres']:\n",
    "    if 'Biography' in genre:\n",
    "        biography += 1\n",
    "horror = 0\n",
    "for genre in BigFrame['genres']:\n",
    "    if 'Horror' in genre:\n",
    "        horror += 1\n",
    "mystery = 0\n",
    "for genre in BigFrame['genres']:\n",
    "    if 'Mystery' in genre:\n",
    "        mystery += 1\n",
    "documentary = 0\n",
    "for genre in BigFrame['genres']:\n",
    "    if 'Documentary' in genre:\n",
    "        documentary += 1\n",
    "crime = 0\n",
    "for genre in BigFrame['genres']:\n",
    "    if 'Crime' in genre:\n",
    "        crime += 1\n",
    "family = 0\n",
    "for genre in BigFrame['genres']:\n",
    "    if 'Family' in genre:\n",
    "        family += 1\n",
    "        \n",
    "       \n",
    "Genres = [comedy, action, adventure, thriller, crime, romance, horror, scifi, biography, mystery, family, music, documentary]\n",
    "Genres_i = ['Comedy', 'Action', 'Adventure', 'Thriller', 'Crime', 'Romance', 'Horror', 'Scifi', 'Biography', 'Mystery', 'Family', 'Music', 'Documentary']\n",
    "Genres_d = ['Comedy', 'Action', 'Adventure', 'Thriller', 'Crime', 'Romance', 'Horror', 'Scifi', 'Biography', 'Mystery', 'Family', 'Music', 'Documentary']"
   ]
  },
  {
   "cell_type": "code",
   "execution_count": null,
   "metadata": {},
   "outputs": [],
   "source": [
    "fig, ax = plt.subplots(figsize=(6,6))\n",
    "ax.bar(x=Genres_i, height=WorldGrossMed,  color='Purple', edgecolor='black')\n",
    "ax.tick_params(axis='x', rotation=45);\n",
    "ylabelsw = ['0', '50M', '100M', '150M', '200M', '250m', '300M'] \n",
    "ax.set_yticklabels(labels=ylabelsw)\n",
    "ax.set_title('Worldwide Gross')\n",
    "ax.set_ylabel('Median Gross Amount')\n",
    "ax.set_xlabel('Genres');"
   ]
  },
  {
   "cell_type": "code",
   "execution_count": null,
   "metadata": {},
   "outputs": [],
   "source": [
    "fig, ax = plt.subplots(figsize=(6,6))\n",
    "ax.bar(x=Genres_i, height=DomGrossMed,  color='Red', edgecolor='black')\n",
    "ax.tick_params(axis='x', rotation=45);\n",
    "ylabels = ['0M', '20M', '40M', '60M', '80M', '100M']\n",
    "ax.set_yticklabels(labels=ylabels)\n",
    "ax.set_title('Domestic Gross')\n",
    "ax.set_ylabel('Median Gross Amount')\n",
    "ax.set_xlabel('Genres');"
   ]
  },
  {
   "cell_type": "code",
   "execution_count": null,
   "metadata": {},
   "outputs": [],
   "source": [
    "fig, ax = plt.subplots(figsize=(6,6))\n",
    "ax.bar(x=Genres_d, height=ForGrossMed,  color='Blue', edgecolor='black')\n",
    "ax.tick_params(axis='x', rotation=45, )\n",
    "ylabels1 = ['0M', '25M', '50M', '75M', '100M', '125M', '150M', '175M', '200M']\n",
    "ax.set_yticklabels(labels=ylabels1)\n",
    "ax.set_title('Foreign Gross')\n",
    "ax.set_ylabel('Median Gross Amount')\n",
    "ax.set_xlabel('Genres');"
   ]
  },
  {
   "cell_type": "code",
   "execution_count": null,
   "metadata": {},
   "outputs": [],
   "source": [
    "fig, ax = plt.subplots(figsize=(15, 10))\n",
    "sns.barplot(x=Genres_i, y=Genres, edgecolor='black')\n",
    "ax.tick_params(axis='x', rotation=45)"
   ]
  },
  {
   "cell_type": "markdown",
   "metadata": {},
   "source": [
    "## Data Modeling\n",
    "Describe and justify the process for analyzing or modeling the data.\n",
    "\n",
    "***\n",
    "Questions to consider:\n",
    "* How did you analyze or model the data?\n",
    "* How did you iterate on your initial approach to make it better?\n",
    "* Why are these choices appropriate given the data and the business problem?\n",
    "***"
   ]
  },
  {
   "cell_type": "markdown",
   "metadata": {},
   "source": [
    "## Evaluation\n",
    "Evaluate how well your work solves the stated business problem.\n",
    "\n",
    "***\n",
    "Questions to consider:\n",
    "* How do you interpret the results?\n",
    "* How well does your model fit your data? How much better is this than your baseline model?\n",
    "* How confident are you that your results would generalize beyond the data you have?\n",
    "* How confident are you that this model would benefit the business if put into use?\n",
    "***"
   ]
  },
  {
   "cell_type": "markdown",
   "metadata": {},
   "source": [
    "## Conclusions\n",
    "Provide your conclusions about the work you've done, including any limitations or next steps.\n",
    "\n",
    "***\n",
    "Questions to consider:\n",
    "* What would you recommend the business do as a result of this work?\n",
    "* What are some reasons why your analysis might not fully solve the business problem?\n",
    "* What else could you do in the future to improve this project?\n",
    "***"
   ]
  }
 ],
 "metadata": {
  "kernelspec": {
   "display_name": "Python 3",
   "language": "python",
   "name": "python3"
  },
  "language_info": {
   "codemirror_mode": {
    "name": "ipython",
    "version": 3
   },
   "file_extension": ".py",
   "mimetype": "text/x-python",
   "name": "python",
   "nbconvert_exporter": "python",
   "pygments_lexer": "ipython3",
   "version": "3.9.2"
  }
 },
 "nbformat": 4,
 "nbformat_minor": 4
}
